{
 "cells": [
  {
   "cell_type": "code",
   "execution_count": 2,
   "id": "ca613db8",
   "metadata": {},
   "outputs": [
    {
     "name": "stdout",
     "output_type": "stream",
     "text": [
      "6\n"
     ]
    }
   ],
   "source": [
    "# Ali Alhalabi- 200490611\n",
    "\n",
    "# Question 1 Evaluation: \n",
    "a = 0  \n",
    "def b():     \n",
    "    global a     \n",
    "    a = c(a)\n",
    "def c(a): \n",
    "    return a + 2 \n",
    "\n",
    "b()\n",
    "b()\n",
    "b()\n",
    "print(a)\n",
    "\n",
    "Explanation : Initially a value is assigned to zero, Then recursively function b call function c three times. \n",
    "Everytime a goes to function c its increment by 2"
   ]
  },
  {
   "cell_type": "code",
   "execution_count": 10,
   "id": "51899c52",
   "metadata": {},
   "outputs": [
    {
     "name": "stdout",
     "output_type": "stream",
     "text": [
      "7\n"
     ]
    }
   ],
   "source": [
    "# Question 2\n",
    "def file_length():\n",
    "    try:\n",
    "        file = open()\n",
    "        contents = file.read().splitlines()\n",
    "        file.close()\n",
    "        print(len(contents))\n",
    "    except: print(f\"{file}  No such file or directory. \")\n",
    "fileLength(\"midterm.txt\")\n",
    "# Explanation:\n",
    "#Try executing the above function if, the file doesnt exist, then goes to the expception error. For example, if the user change the file name. An exception messege will show\"Nameofthefile No such file\"\n"
   ]
  },
  {
   "cell_type": "code",
   "execution_count": 41,
   "id": "60af175a",
   "metadata": {},
   "outputs": [
    {
     "data": {
      "text/plain": [
       "['doll', 'firetruck', 'kitten']"
      ]
     },
     "execution_count": 41,
     "metadata": {},
     "output_type": "execute_result"
    }
   ],
   "source": [
    "# Question 3a\n",
    "lst=[]\n",
    "class Marsupial:\n",
    "    def __init__(self):\n",
    "        pass\n",
    "    \n",
    "    def put_in_pouch(self,item):\n",
    "        lst.append(item)\n",
    "        \n",
    "    def pouch_contents(self):\n",
    "        return lst\n",
    "    \n",
    "m = Marsupial()\n",
    "m.put_in_pouch('doll')\n",
    "m.put_in_pouch('firetruck')\n",
    "m.put_in_pouch('kitten')\n",
    "m.pouch_contents()\n",
    "\n",
    "# Creating a list and inserting the following items into the function created first.\n"
   ]
  },
  {
   "cell_type": "code",
   "execution_count": 69,
   "id": "b7a3e899",
   "metadata": {},
   "outputs": [
    {
     "name": "stdout",
     "output_type": "stream",
     "text": [
      "The Kangaroo is located at coordinates (3 , 0)\n"
     ]
    }
   ],
   "source": [
    "# Question 3b\n",
    "Kangaro_coordinates=[0,0]\n",
    "\n",
    "class Kangaroo(Marsupial):\n",
    "    \n",
    "    def __init__(self):\n",
    "        Marsupial.__init__(self)\n",
    "        \n",
    "    def jump(self,x,y):\n",
    "        Kangaro_coordinates[0]=Kangaro_coordinates[0]+x\n",
    "        Kangaro_coordinates[0]=Kangaro_coordinates[0]+y\n",
    "        \n",
    "    def __str__(self):\n",
    "        return (\"The Kangaroo is located at coordinates (\"+str(Kangaro_coordinates[0]) + \" , \"  + str(Kangaro_coordinates[1])+ ')')\n",
    "    \n",
    "a= Kangaroo()\n",
    "a.jump(1,0)\n",
    "a.jump(1,0)\n",
    "a.jump(1,0)\n",
    "\n",
    "print(a) \n",
    "# Initially we set the coordinate to (0,0)\n",
    "# then intriduced the jump fucntion which moves the Kangaroo coordinates \n",
    "# Finally introduce the  function string which indicates the new coordinate after the move"
   ]
  },
  {
   "cell_type": "code",
   "execution_count": 16,
   "id": "0b1a264f",
   "metadata": {},
   "outputs": [
    {
     "name": "stdout",
     "output_type": "stream",
     "text": [
      "10\n",
      "5.0\n",
      "16.0\n",
      "8.0\n",
      "4.0\n",
      "2.0\n",
      "1.0\n"
     ]
    }
   ],
   "source": [
    "# Question 4\n",
    "def collatz(x):\n",
    "# Fucntion will test if the number is even, odd or one.    \n",
    "    if x==1: \n",
    "        print(x)\n",
    "# Here we print one if the number is one        \n",
    "    elif x%2==0:\n",
    "        print(x)\n",
    "        collatz(x/2)\n",
    "#if the number is even we divide it by 1        \n",
    "    else:\n",
    "        print(x)\n",
    "        collatz(3*x+1)\n",
    "#if the number is odd, we multiple it by three and add one      \n",
    "collatz(10)"
   ]
  },
  {
   "cell_type": "code",
   "execution_count": 51,
   "id": "648cce9f",
   "metadata": {},
   "outputs": [
    {
     "name": "stdout",
     "output_type": "stream",
     "text": [
      "0\n",
      "1\n",
      "11\n",
      "1001\n"
     ]
    }
   ],
   "source": [
    "#Question 5\n",
    "def binary(n):\n",
    "# Introduce a string x to add the binary representation in it\n",
    "    x=\"\"\n",
    "# if statement to check the number and the logic behind it is as follow:\n",
    "# Even number add a zero the string, odd number add 1 to the string\n",
    "# The recursive fucntion is on until it reach zero\n",
    "    if (n!=0):\n",
    "        while (n>=1):\n",
    "            if (n %2==0):\n",
    "                x+=\"0\"\n",
    "                n=n/2\n",
    "            else:\n",
    "                x+=\"1\"\n",
    "                n=(n-1)/2\n",
    "    else:\n",
    "        x=\"0\"\n",
    "    print (x)\n",
    "\n",
    "binary(0)\n",
    "binary(1)\n",
    "binary(3)\n",
    "binary(9)"
   ]
  },
  {
   "cell_type": "code",
   "execution_count": 78,
   "id": "3710ed11",
   "metadata": {},
   "outputs": [
    {
     "ename": "IndentationError",
     "evalue": "expected an indented block (<ipython-input-78-431c693eb022>, line 7)",
     "output_type": "error",
     "traceback": [
      "\u001b[1;36m  File \u001b[1;32m\"<ipython-input-78-431c693eb022>\"\u001b[1;36m, line \u001b[1;32m7\u001b[0m\n\u001b[1;33m    def handle_data(self, data):\u001b[0m\n\u001b[1;37m    ^\u001b[0m\n\u001b[1;31mIndentationError\u001b[0m\u001b[1;31m:\u001b[0m expected an indented block\n"
     ]
    }
   ],
   "source": [
    "# Question 6\n",
    "from html.parser import HTMLParser\n",
    "class HeadingParser(HTMLParser):\n",
    "# from the class that we need to impot HTMLParser and introducing it as a subclass\n",
    "    def handle_starttag(self, tag, attrs):\n",
    "#Starting the tag handler and search for the heading     \n",
    "    def handle_data(self, data):\n",
    "# handling arbitary text data    \n",
    "    def handle_endtag(self, tag):\n",
    "# Ending tag handler      \n",
    "        \n",
    "infile = open('w3c.html') \n",
    "content = infile.read() \n",
    "infile.close() \n",
    "hp = HeadingParser() \n",
    "hp.feed(content) "
   ]
  },
  {
   "cell_type": "code",
   "execution_count": null,
   "id": "1f00ba81",
   "metadata": {},
   "outputs": [],
   "source": [
    "# Question 7\n",
    "# I think we need to import some libaries first\n",
    "def webdir(url, depth, indent):\n",
    "\n",
    "webdir('http://reed.cs.depaul.edu/lperkovic/csc242/test1.html', 2, 0)"
   ]
  },
  {
   "cell_type": "code",
   "execution_count": 33,
   "id": "59d01b4e",
   "metadata": {},
   "outputs": [
    {
     "name": "stdout",
     "output_type": "stream",
     "text": [
      "Collecting ipython-sql\n",
      "  Downloading ipython_sql-0.4.0-py3-none-any.whl (19 kB)\n",
      "Collecting prettytable<1\n",
      "  Downloading prettytable-0.7.2.zip (28 kB)\n",
      "Requirement already satisfied: six in c:\\users\\ali al halabi\\anaconda3\\lib\\site-packages (from ipython-sql) (1.15.0)\n",
      "Requirement already satisfied: ipython-genutils>=0.1.0 in c:\\users\\ali al halabi\\anaconda3\\lib\\site-packages (from ipython-sql) (0.2.0)\n",
      "Collecting sqlparse\n",
      "  Downloading sqlparse-0.4.2-py3-none-any.whl (42 kB)\n",
      "Requirement already satisfied: sqlalchemy>=0.6.7 in c:\\users\\ali al halabi\\anaconda3\\lib\\site-packages (from ipython-sql) (1.4.7)\n",
      "Requirement already satisfied: ipython>=1.0 in c:\\users\\ali al halabi\\anaconda3\\lib\\site-packages (from ipython-sql) (7.22.0)\n",
      "Requirement already satisfied: decorator in c:\\users\\ali al halabi\\anaconda3\\lib\\site-packages (from ipython>=1.0->ipython-sql) (5.0.6)\n",
      "Requirement already satisfied: pygments in c:\\users\\ali al halabi\\anaconda3\\lib\\site-packages (from ipython>=1.0->ipython-sql) (2.8.1)\n",
      "Requirement already satisfied: jedi>=0.16 in c:\\users\\ali al halabi\\anaconda3\\lib\\site-packages (from ipython>=1.0->ipython-sql) (0.17.2)\n",
      "Requirement already satisfied: colorama in c:\\users\\ali al halabi\\anaconda3\\lib\\site-packages (from ipython>=1.0->ipython-sql) (0.4.4)\n",
      "Requirement already satisfied: prompt-toolkit!=3.0.0,!=3.0.1,<3.1.0,>=2.0.0 in c:\\users\\ali al halabi\\anaconda3\\lib\\site-packages (from ipython>=1.0->ipython-sql) (3.0.17)\n",
      "Requirement already satisfied: traitlets>=4.2 in c:\\users\\ali al halabi\\anaconda3\\lib\\site-packages (from ipython>=1.0->ipython-sql) (5.0.5)\n",
      "Requirement already satisfied: pickleshare in c:\\users\\ali al halabi\\anaconda3\\lib\\site-packages (from ipython>=1.0->ipython-sql) (0.7.5)\n",
      "Requirement already satisfied: setuptools>=18.5 in c:\\users\\ali al halabi\\anaconda3\\lib\\site-packages (from ipython>=1.0->ipython-sql) (52.0.0.post20210125)\n",
      "Requirement already satisfied: backcall in c:\\users\\ali al halabi\\anaconda3\\lib\\site-packages (from ipython>=1.0->ipython-sql) (0.2.0)\n",
      "Requirement already satisfied: parso<0.8.0,>=0.7.0 in c:\\users\\ali al halabi\\anaconda3\\lib\\site-packages (from jedi>=0.16->ipython>=1.0->ipython-sql) (0.7.0)\n",
      "Requirement already satisfied: wcwidth in c:\\users\\ali al halabi\\anaconda3\\lib\\site-packages (from prompt-toolkit!=3.0.0,!=3.0.1,<3.1.0,>=2.0.0->ipython>=1.0->ipython-sql) (0.2.5)\n",
      "Requirement already satisfied: greenlet!=0.4.17 in c:\\users\\ali al halabi\\anaconda3\\lib\\site-packages (from sqlalchemy>=0.6.7->ipython-sql) (1.0.0)\n",
      "Building wheels for collected packages: prettytable\n",
      "  Building wheel for prettytable (setup.py): started\n",
      "  Building wheel for prettytable (setup.py): finished with status 'done'\n",
      "  Created wheel for prettytable: filename=prettytable-0.7.2-py3-none-any.whl size=13699 sha256=54cc78e1cfd173f6656a29bc531356340c9fc7f0b3481bb4f75950cb824ff30f\n",
      "  Stored in directory: c:\\users\\ali al halabi\\appdata\\local\\pip\\cache\\wheels\\48\\6d\\77\\9517cb933af254f51a446f1a5ec9c2be3e45f17384940bce68\n",
      "Successfully built prettytable\n",
      "Installing collected packages: sqlparse, prettytable, ipython-sql\n",
      "Successfully installed ipython-sql-0.4.0 prettytable-0.7.2 sqlparse-0.4.2\n"
     ]
    }
   ],
   "source": [
    "!pip install ipython-sql"
   ]
  },
  {
   "cell_type": "code",
   "execution_count": 74,
   "id": "27136d99",
   "metadata": {},
   "outputs": [
    {
     "ename": "OperationalError",
     "evalue": "table Keywords already exists",
     "output_type": "error",
     "traceback": [
      "\u001b[1;31m---------------------------------------------------------------------------\u001b[0m",
      "\u001b[1;31mOperationalError\u001b[0m                          Traceback (most recent call last)",
      "\u001b[1;32m<ipython-input-74-f65cfd0766fc>\u001b[0m in \u001b[0;36m<module>\u001b[1;34m\u001b[0m\n\u001b[0;32m      4\u001b[0m \u001b[0mcur\u001b[0m \u001b[1;33m=\u001b[0m \u001b[0mconn\u001b[0m\u001b[1;33m.\u001b[0m\u001b[0mcursor\u001b[0m\u001b[1;33m(\u001b[0m\u001b[1;33m)\u001b[0m\u001b[1;33m\u001b[0m\u001b[1;33m\u001b[0m\u001b[0m\n\u001b[0;32m      5\u001b[0m \u001b[1;31m#  connecting to sqlite3 function and establishing a connection\u001b[0m\u001b[1;33m\u001b[0m\u001b[1;33m\u001b[0m\u001b[1;33m\u001b[0m\u001b[0m\n\u001b[1;32m----> 6\u001b[1;33m \u001b[0mcur\u001b[0m\u001b[1;33m.\u001b[0m\u001b[0mexecute\u001b[0m\u001b[1;33m(\u001b[0m\u001b[1;34m\"CREATE TABLE Keywords (City text, Country text, Season text, Temperature float, Rainfall float)\"\u001b[0m\u001b[1;33m)\u001b[0m\u001b[1;33m\u001b[0m\u001b[1;33m\u001b[0m\u001b[0m\n\u001b[0m\u001b[0;32m      7\u001b[0m \u001b[1;31m# create a table\u001b[0m\u001b[1;33m\u001b[0m\u001b[1;33m\u001b[0m\u001b[1;33m\u001b[0m\u001b[0m\n\u001b[0;32m      8\u001b[0m \u001b[0mcur\u001b[0m\u001b[1;33m.\u001b[0m\u001b[0mexecute\u001b[0m\u001b[1;33m(\u001b[0m\u001b[1;34m\"INSERT INTO Keywords VALUES ('Mumbai','India','Winter',24.8,5.9)\"\u001b[0m\u001b[1;33m)\u001b[0m\u001b[1;33m\u001b[0m\u001b[1;33m\u001b[0m\u001b[0m\n",
      "\u001b[1;31mOperationalError\u001b[0m: table Keywords already exists"
     ]
    }
   ],
   "source": [
    "# Question 8\n",
    "import sqlite3\n",
    "conn = sqlite3.connect('web.db')\n",
    "cur = conn.cursor()\n",
    "#  connecting to sqlite3 function and establishing a connection\n",
    "cur.execute(\"CREATE TABLE Keywords (City text, Country text, Season text, Temperature float, Rainfall float)\")\n",
    "# create a table\n",
    "cur.execute(\"INSERT INTO Keywords VALUES ('Mumbai','India','Winter',24.8,5.9)\")\n",
    "cur.execute(\"INSERT INTO Keywords VALUES ('Mumbai','India','Spring',28.4,16.2)\")\n",
    "cur.execute(\"INSERT INTO Keywords VALUES ('Mumbai','India','Summer',27.9,1549.4)\")\n",
    "cur.execute(\"INSERT INTO Keywords VALUES ('Mumbai','India','Fall',27.6,346.0)\")\n",
    "cur.execute(\"INSERT INTO Keywords VALUES ('London','United Kingdom','Winter',4.2,207.7)\")\n",
    "cur.execute(\"INSERT INTO Keywords VALUES ('London','United Kingdom','Spring',8.3,169.6)\")\n",
    "cur.execute(\"INSERT INTO Keywords VALUES ('London','United Kingdom','Summer',15.7,157.0)\")\n",
    "cur.execute(\"INSERT INTO Keywords VALUES ('London','United Kingdom','Fall',10.4,218.5)\")\n",
    "cur.execute(\"INSERT INTO Keywords VALUES ('Cairo','Egypt','Winter',13.6,16.5)\")\n",
    "cur.execute(\"INSERT INTO Keywords VALUES ('Cairo','Egypt','Spring',20.7,6.5)\")\n",
    "cur.execute(\"INSERT INTO Keywords VALUES ('Cairo','Egypt','Summer',27.7,0.1)\")\n",
    "cur.execute(\"INSERT INTO Keywords VALUES ('Cairo','Egypt','Fall',22.2,4.5)\")\n",
    "# inserting the data\n",
    "# Temperature\n",
    "cur.execute('SELECT Temperature FROM Keywords')\n",
    "print(cur.fetchall())\n",
    "\n",
    "#Distinct cities\n",
    "cur.execute('SELECT City FROM Keywords')\n",
    "print(Distinct.cur.fetchall())\n",
    "\n",
    "# India records\n",
    "cur.execute('SELECT * FROM Keywords WHERE Country= India')\n",
    "print(cur.fetchall())\n",
    "\n",
    "#Fall records\n",
    "cur.execute('SELECT * FROM Keywords WHERE Season= Fall')\n",
    "print(cur.fetchall())\n",
    "\n",
    "#Rainfall between 200 and 400\n",
    "cur.execute('SELECT City, Country, Season FROM Keywords WHERE Rainfall>=200 AND Rainfall<=400')\n",
    "print(cur.fetchall())\n",
    "\n",
    "# City and rainfall for specific conditions\n",
    "cur.execute('SELECT City, Country, Temperature FROM Keywords WHERE Season=Fall AND Temperature>20')\n",
    "print(cur.fetchall())\n",
    "\n",
    "\n",
    "# Sum rainfall in Cairo\n",
    "cur.execute('SELECT Rainfall FROM Keywords WHERE City=Cairo')\n",
    "print(sum(cur.fetchall()))\n",
    "\n",
    "# Total rainfall for each season\n",
    "cur.execute(\"SELECT Season, Rainfall FROM Keywords\")\n",
    "# I think this is a for loop for each season where j is the season and i sum the rainfall in j\n",
    "\n",
    "conn.commit()\n",
    "conn.close()\n",
    "#Closing the database"
   ]
  },
  {
   "cell_type": "code",
   "execution_count": 32,
   "id": "1035e0ae",
   "metadata": {},
   "outputs": [
    {
     "name": "stdout",
     "output_type": "stream",
     "text": [
      "['THE', 'QUICK', 'BROWN', 'FOX', 'JUMPS', 'OVER', 'THE', 'LAZY', 'DOG']\n",
      "['the', 'quick', 'brown', 'fox', 'jumps', 'over', 'the', 'lazy', 'dog']\n",
      "[3, 5, 5, 3, 5, 4, 3, 4, 3]\n",
      "[['THE', 'the', 3], ['QUICK', 'quick', 5], ['BROWN', 'brown', 5], ['FOX', 'fox', 3], ['JUMPS', 'jumps', 5], ['OVER', 'over', 4], ['THE', 'the', 3], ['LAZY', 'lazy', 4], ['DOG', 'dog', 3]]\n"
     ]
    }
   ],
   "source": [
    "# Question 9 \n",
    "words = ['The', 'quick', 'brown', 'fox', 'jumps', 'over', 'the', 'lazy', 'dog'] \n",
    "print([i.upper() for i in words])\n",
    "print([i.lower() for i in words])\n",
    "print([len(i) for i in words])\n",
    "print([[i.upper(), i.lower(), len(i)] for i in words])"
   ]
  }
 ],
 "metadata": {
  "kernelspec": {
   "display_name": "Python 3",
   "language": "python",
   "name": "python3"
  },
  "language_info": {
   "codemirror_mode": {
    "name": "ipython",
    "version": 3
   },
   "file_extension": ".py",
   "mimetype": "text/x-python",
   "name": "python",
   "nbconvert_exporter": "python",
   "pygments_lexer": "ipython3",
   "version": "3.8.8"
  }
 },
 "nbformat": 4,
 "nbformat_minor": 5
}
